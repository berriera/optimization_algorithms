{
 "cells": [
  {
   "cell_type": "code",
   "execution_count": 1,
   "metadata": {},
   "outputs": [],
   "source": [
    "import numpy as np\n",
    "import queue"
   ]
  },
  {
   "cell_type": "markdown",
   "metadata": {},
   "source": [
    "### 1. Goal detection"
   ]
  },
  {
   "cell_type": "code",
   "execution_count": 2,
   "metadata": {},
   "outputs": [],
   "source": [
    "# Check if goal has been satisfied for a given design in the queue\n",
    "def check_goal(layout, target_gate_count):\n",
    "    gate_count = np.count_nonzero(layout == 2)\n",
    "    if gate_count == target_gate_count:\n",
    "        return True\n",
    "    else:\n",
    "        return False"
   ]
  },
  {
   "cell_type": "markdown",
   "metadata": {},
   "source": [
    "### 2. Candidate representation and children generation"
   ]
  },
  {
   "cell_type": "code",
   "execution_count": 3,
   "metadata": {},
   "outputs": [],
   "source": [
    "# Generates all potential children for current design that satisfy both rules for all land spaces\n",
    "def generate_children(parent):\n",
    "    children_list = []    \n",
    "    \n",
    "    # Find dimensions of parent design\n",
    "    height = np.shape(parent)[0]\n",
    "    width = np.shape(parent)[1]\n",
    "    \n",
    "    for i in range(height):\n",
    "        for j in range(width):\n",
    "            \n",
    "            # Check for empty land area\n",
    "            if parent[i,j] == 0:\n",
    "                \n",
    "                new_potential_walkway_child = np.copy(parent)\n",
    "                new_potential_terminal_child = np.copy(parent)\n",
    "                \n",
    "                # Update empty land with terminal and add to children list if it passes both rules\n",
    "                new_potential_terminal_child[i,j] = 2\n",
    "                \n",
    "                if check_child(new_potential_terminal_child):\n",
    "                    children_list.append(new_potential_terminal_child)\n",
    "                    \n",
    "                # Update empty land with walkway and add to children list if it passes both rules\n",
    "                new_potential_walkway_child[i,j] = 1                \n",
    "                \n",
    "                if check_child(new_potential_walkway_child):\n",
    "                    children_list.append(new_potential_walkway_child)    \n",
    "                \n",
    "                \n",
    "    return children_list"
   ]
  },
  {
   "cell_type": "markdown",
   "metadata": {},
   "source": [
    "### Checks both rules for each potential design"
   ]
  },
  {
   "cell_type": "code",
   "execution_count": 4,
   "metadata": {},
   "outputs": [],
   "source": [
    "def check_child(proposed_layout):\n",
    "    \n",
    "    # Checks for 3 bordering empty spaces and 1 bordering walkway\n",
    "    def check_rule_1(design, x, y):\n",
    "        N = design[x - 1, y]\n",
    "        S = design[x + 1, y]\n",
    "        E = design[x, y + 1]\n",
    "        W = design[x, y - 1]\n",
    "\n",
    "        current_location_NSEW_values = np.array([N, S, E, W])\n",
    "        empty_NSEW_borders = np.count_nonzero(current_location_NSEW_values == 0)\n",
    "        walkway_NSEW_borders = np.count_nonzero(current_location_NSEW_values == 1)\n",
    "\n",
    "        if empty_NSEW_borders == 3 and walkway_NSEW_borders == 1:\n",
    "            return True\n",
    "        else:\n",
    "            return False\n",
    "        \n",
    "    \n",
    "    # Checks for a nearby walkway \n",
    "    def check_rule_2(design, x, y):\n",
    "        N = design[x - 1, y]\n",
    "        S = design[x + 1, y]\n",
    "        E = design[x, y + 1]\n",
    "        W = design[x, y - 1]\n",
    "\n",
    "        NW = design[x - 1, y - 1]\n",
    "        NE = design[x - 1, y + 1]\n",
    "        SW = design[x + 1, y - 1]\n",
    "        SE = design[x + 1, y + 1]\n",
    "        \n",
    "        current_location_NSEW_values = np.array([N, S, E, W])\n",
    "        current_location_border_values = np.array([N, S, E, W, NW, NE, SW, SE])\n",
    "        \n",
    "        walkway_all_borders_count = np.count_nonzero(current_location_border_values == 1)\n",
    "        terminal_NSEW_borders_count = np.count_nonzero(current_location_NSEW_values == 2)\n",
    "\n",
    "        if walkway_all_borders_count > 0:\n",
    "            return True\n",
    "        \n",
    "        # Also checks for a bordering terminal if there are no other walkways nearby\n",
    "        # (this only is relevant for children of the seed so that the first walkway does not need\n",
    "        # a second walkway to also have a terminal attached to it)\n",
    "        elif (terminal_NSEW_borders_count >= 1 and walkway_all_borders_count == 0):\n",
    "            return True\n",
    "        else:\n",
    "            return False\n",
    "    \n",
    "    height = np.shape(proposed_layout)[0]\n",
    "    width = np.shape(proposed_layout)[1]\n",
    "    \n",
    "    \n",
    "    for i in range(height):\n",
    "        for j in range(width):\n",
    "            \n",
    "            # Initialize rule booleans\n",
    "            rule_bool_1 = True\n",
    "            rule_bool_2 = True\n",
    "            \n",
    "            # Check rule 1 if a terminal is found\n",
    "            if proposed_layout[i,j] == 2:\n",
    "                rule_bool_1 = check_rule_1(proposed_layout, i, j)\n",
    "            \n",
    "            # Check rule 2 is a walkway is found\n",
    "            elif proposed_layout[i,j] == 1:\n",
    "                rule_bool_2 = check_rule_2(proposed_layout, i, j)\n",
    "                \n",
    "            # Returns first false at first rule break\n",
    "            if not (rule_bool_1 and rule_bool_2):\n",
    "                return False    \n",
    "    \n",
    "    # Returns that the design is valid only if both rules have worked for all walkways and terminals\n",
    "    return True"
   ]
  },
  {
   "cell_type": "markdown",
   "metadata": {},
   "source": [
    "### 3. Code for depth first search"
   ]
  },
  {
   "cell_type": "code",
   "execution_count": 5,
   "metadata": {},
   "outputs": [],
   "source": [
    "def DFS(seed_name, target_gate_count, depth):\n",
    "    seed = np.genfromtxt(seed_name + '.csv', delimiter=',', dtype=int)\n",
    "    print('Seed:\\n', seed)\n",
    "    \n",
    "    # Generate initial empty stack (also known as a LIFO queue)\n",
    "    airport_stack = queue.LifoQueue()\n",
    "    \n",
    "    # Initialize depth\n",
    "    depth_0 = 0\n",
    "    depthmax = depth\n",
    "\n",
    "    # Attach depth level to seed\n",
    "    airport_item = (depth_0, seed)\n",
    "    \n",
    "    # Add seed to stack\n",
    "    airport_stack.put(airport_item)\n",
    "    \n",
    "    # Keep searching while stack is not empty.....\n",
    "    while not airport_stack.empty():\n",
    "        \n",
    "        sol_bool = False\n",
    "        # Grab the top of the stack\n",
    "        stack_top = airport_stack.get()\n",
    "    \n",
    "        # Check if top of stack is the goal, return layout if true\n",
    "        if check_goal(layout=stack_top[1], target_gate_count=target_gate_count):\n",
    "            print('\\n Solution found! \\n')\n",
    "            print(stack_top[1])\n",
    "            print('Depth Level: {}'.format(stack_top[0]))\n",
    "            sol_bool = True\n",
    "            break\n",
    "    \n",
    "        # Create children if seed is not the goal and additional depth is possible\n",
    "        if stack_top[0] < depthmax:\n",
    "            current_children = generate_children(stack_top[1])\n",
    "            current_children_count = len(current_children)        \n",
    "            depth_child = stack_top[0] + 1\n",
    "\n",
    "        # Add each design to stack along with depth level\n",
    "            for child_number in range(current_children_count):\n",
    "                airport_design = np.copy(current_children[child_number])\n",
    "                airport_item = (depth_child, airport_design)\n",
    "                airport_stack.put(airport_item, block=False)\n",
    "    \n",
    "    # Return no solution if stack is empty\n",
    "    if not sol_bool:\n",
    "        print('\\n No solution for this seed')"
   ]
  },
  {
   "cell_type": "markdown",
   "metadata": {},
   "source": [
    "### Results for depth first search"
   ]
  },
  {
   "cell_type": "code",
   "execution_count": null,
   "metadata": {},
   "outputs": [],
   "source": [
    "A_star(seed_name='A', target_gate_count=3)"
   ]
  },
  {
   "cell_type": "code",
   "execution_count": null,
   "metadata": {},
   "outputs": [],
   "source": [
    "A_star(seed_name='B', target_gate_count=4)"
   ]
  },
  {
   "cell_type": "markdown",
   "metadata": {},
   "source": [
    "### 4. Transition function $g(n)$ and heuristic $h(n)$"
   ]
  },
  {
   "cell_type": "code",
   "execution_count": 15,
   "metadata": {},
   "outputs": [],
   "source": [
    "# Heuristics for defining single child's objective function value\n",
    "def evaluate_child(layout, target_gate_count):\n",
    "    walkway_count = np.count_nonzero(layout == 1)\n",
    "    gate_count = np.count_nonzero(layout == 2)\n",
    "    \n",
    "    g_n = walkway_count\n",
    "    h_n = (target_gate_count - gate_count)\n",
    "    f = g_n + h_n\n",
    "    return f"
   ]
  },
  {
   "cell_type": "markdown",
   "metadata": {},
   "source": [
    "### 5. Code for A*"
   ]
  },
  {
   "cell_type": "code",
   "execution_count": 11,
   "metadata": {},
   "outputs": [],
   "source": [
    "def A_star(seed_name, target_gate_count):\n",
    "    seed = np.genfromtxt(seed_name + '.csv', delimiter=',', dtype=int)\n",
    "    print('Seed:\\n', seed)\n",
    "    eval_counter = 0\n",
    "    \n",
    "    # Generate initial empty queue\n",
    "    airport_queue = queue.PriorityQueue()\n",
    "    \n",
    "    # Evaluate objective function score of seed\n",
    "    seed_score = evaluate_child(layout=seed, target_gate_count=target_gate_count)\n",
    "\n",
    "    # Attach score to seed\n",
    "    airport_item = (seed_score, eval_counter, seed)\n",
    "    \n",
    "    # Add seed to priority queue\n",
    "    airport_queue.put(airport_item)\n",
    "    \n",
    "    # Keep searching while queue is not empty.....\n",
    "    while not airport_queue.empty():\n",
    "    \n",
    "        # Grab the top of the queue\n",
    "        queue_top = airport_queue.get()        \n",
    "    \n",
    "        # Check if top of queue is the goal, return layout if true\n",
    "        if check_goal(layout=queue_top[2], target_gate_count=target_gate_count):\n",
    "            walkway_count = np.count_nonzero(queue_top[2] == 1)\n",
    "            print('\\n Solution found with {} walkways after {} evaluations! \\n'.format(walkway_count, eval_counter))\n",
    "            print(queue_top[2])\n",
    "            return\n",
    "    \n",
    "        # Create children if seed is not the goal\n",
    "        current_children = generate_children(queue_top[3])\n",
    "        current_children_count = len(current_children)\n",
    "\n",
    "        # Evaluate each design and add it to the priority queue\n",
    "        for child_number in range(current_children_count):\n",
    "            \n",
    "            airport_design = np.copy(current_children[child_number])\n",
    "            score = evaluate_child(layout=airport_design, target_gate_count=target_gate_count)\n",
    "            eval_counter = eval_counter + 1\n",
    "            \n",
    "            airport_item = (score_1, score_2, eval_counter, airport_design)\n",
    "            airport_queue.put(item=airport_item)\n",
    "    \n",
    "    # Return no solution if queue is empty\n",
    "    print('\\n No solution for this seed. Tested {} designs'.format(eval_counter))"
   ]
  },
  {
   "cell_type": "markdown",
   "metadata": {},
   "source": [
    "### Results for A*"
   ]
  },
  {
   "cell_type": "code",
   "execution_count": 16,
   "metadata": {},
   "outputs": [
    {
     "name": "stdout",
     "output_type": "stream",
     "text": [
      "Seed:\n",
      " [[-1 -1 -1 -1 -1]\n",
      " [-1  1  0  0 -1]\n",
      " [-1  0  0  0 -1]\n",
      " [-1  0  0  0 -1]\n",
      " [-1  0  0  0 -1]\n",
      " [-1  0  0  0 -1]\n",
      " [-1  0  0  0 -1]\n",
      " [-1  0  0  0 -1]\n",
      " [-1 -1 -1 -1 -1]]\n",
      "\n",
      " Solution found with 6 walkways after 9713 evaluations! \n",
      "\n",
      "[[-1 -1 -1 -1 -1]\n",
      " [-1  1  0  0 -1]\n",
      " [-1  1  2  0 -1]\n",
      " [-1  1  0  0 -1]\n",
      " [-1  1  2  0 -1]\n",
      " [-1  1  0  0 -1]\n",
      " [-1  1  2  0 -1]\n",
      " [-1  0  0  0 -1]\n",
      " [-1 -1 -1 -1 -1]]\n"
     ]
    }
   ],
   "source": [
    "A_star(seed_name='A', target_gate_count=3)"
   ]
  },
  {
   "cell_type": "code",
   "execution_count": 17,
   "metadata": {},
   "outputs": [
    {
     "name": "stdout",
     "output_type": "stream",
     "text": [
      "Seed:\n",
      " [[-1 -1 -1 -1 -1 -1 -1]\n",
      " [-1  0  0  0  0  0 -1]\n",
      " [-1  0  0  0  0  0 -1]\n",
      " [-1  1  0  0  0  0 -1]\n",
      " [-1  0  0  0  0  0 -1]\n",
      " [-1  0  0  0  0  0 -1]\n",
      " [-1 -1 -1 -1 -1 -1 -1]]\n",
      "\n",
      " Solution found with 4 walkways after 1818 evaluations! \n",
      "\n",
      "[[-1 -1 -1 -1 -1 -1 -1]\n",
      " [-1  0  0  0  0  0 -1]\n",
      " [-1  0  2  0  2  0 -1]\n",
      " [-1  1  1  1  1  0 -1]\n",
      " [-1  0  2  0  2  0 -1]\n",
      " [-1  0  0  0  0  0 -1]\n",
      " [-1 -1 -1 -1 -1 -1 -1]]\n"
     ]
    }
   ],
   "source": [
    "A_star(seed_name='B', target_gate_count=4)"
   ]
  },
  {
   "cell_type": "code",
   "execution_count": 18,
   "metadata": {},
   "outputs": [
    {
     "name": "stdout",
     "output_type": "stream",
     "text": [
      "Seed:\n",
      " [[-1 -1 -1 -1 -1 -1 -1 -1 -1]\n",
      " [-1  0  0  0  0  0  0  0 -1]\n",
      " [-1  0  0  0  0  0  0  0 -1]\n",
      " [-1  0  0  0  1  0  0  0 -1]\n",
      " [-1  0  0  0  0  0  0  0 -1]\n",
      " [-1  0  0  0  0  0  0  0 -1]\n",
      " [-1 -1 -1 -1 -1 -1 -1 -1 -1]]\n",
      "\n",
      " Solution found with 3 walkways after 6617 evaluations! \n",
      "\n",
      "[[-1 -1 -1 -1 -1 -1 -1 -1 -1]\n",
      " [-1  0  0  0  0  0  0  0 -1]\n",
      " [-1  0  0  2  0  2  0  0 -1]\n",
      " [-1  0  2  1  1  1  2  0 -1]\n",
      " [-1  0  0  2  0  2  0  0 -1]\n",
      " [-1  0  0  0  0  0  0  0 -1]\n",
      " [-1 -1 -1 -1 -1 -1 -1 -1 -1]]\n"
     ]
    }
   ],
   "source": [
    "A_star(seed_name='C', target_gate_count=6)"
   ]
  },
  {
   "cell_type": "code",
   "execution_count": null,
   "metadata": {},
   "outputs": [
    {
     "name": "stdout",
     "output_type": "stream",
     "text": [
      "Seed:\n",
      " [[-1 -1 -1 -1 -1 -1 -1 -1 -1 -1]\n",
      " [-1  0  0  0  0  0  0  0  0 -1]\n",
      " [-1  0  0  0  0  0  0  0  0 -1]\n",
      " [-1  0  0  0  0  0  0  0  0 -1]\n",
      " [-1  0  0  0  0  0  0  0  0 -1]\n",
      " [-1  0  0  0  0  0  0  0  0 -1]\n",
      " [-1  0  0  0  0  0  0  0  0 -1]\n",
      " [-1  0  0  0  0  0  0  0  0 -1]\n",
      " [-1  0  0  0  0  1  0  0  0 -1]\n",
      " [-1 -1 -1 -1 -1 -1 -1 -1 -1 -1]]\n"
     ]
    }
   ],
   "source": [
    "A_star(seed_name='D', target_gate_count=7)"
   ]
  },
  {
   "cell_type": "code",
   "execution_count": 12,
   "metadata": {},
   "outputs": [
    {
     "name": "stdout",
     "output_type": "stream",
     "text": [
      "Seed:\n",
      " [[-1 -1 -1 -1 -1 -1 -1 -1 -1 -1]\n",
      " [-1  1  0  0 -1 -1 -1 -1 -1 -1]\n",
      " [-1  0  0  0  0 -1 -1 -1 -1 -1]\n",
      " [-1  0  0  0  0  0 -1 -1 -1 -1]\n",
      " [-1  0  0  0  0  0  0 -1 -1 -1]\n",
      " [-1  0  0  0  0  0  0  0 -1 -1]\n",
      " [-1  0  0  0  0  0  0  0  0 -1]\n",
      " [-1  0  0  0  0  0  0  0  0 -1]\n",
      " [-1  0  0  0  0  0  0  0  0 -1]\n",
      " [-1 -1 -1 -1 -1 -1 -1 -1 -1 -1]]\n",
      "\n",
      " Solution found with 10 walkways after 22254 evaluations! \n",
      "\n",
      "[[-1 -1 -1 -1 -1 -1 -1 -1 -1 -1]\n",
      " [-1  1  0  0 -1 -1 -1 -1 -1 -1]\n",
      " [-1  1  0  2  0 -1 -1 -1 -1 -1]\n",
      " [-1  0  1  1  0  0 -1 -1 -1 -1]\n",
      " [-1  0  2  0  1  2  0 -1 -1 -1]\n",
      " [-1  0  0  2  1  0  2  0 -1 -1]\n",
      " [-1  0  0  0  1  1  1  2  0 -1]\n",
      " [-1  0  2  1  0  2  0  0  0 -1]\n",
      " [-1  0  0  0  0  0  0  0  0 -1]\n",
      " [-1 -1 -1 -1 -1 -1 -1 -1 -1 -1]]\n"
     ]
    }
   ],
   "source": [
    "A_star(seed_name='E', target_gate_count=8)"
   ]
  },
  {
   "cell_type": "code",
   "execution_count": null,
   "metadata": {},
   "outputs": [],
   "source": [
    "A_star(seed_name='F', target_gate_count=11)"
   ]
  },
  {
   "cell_type": "code",
   "execution_count": 32,
   "metadata": {},
   "outputs": [
    {
     "name": "stdout",
     "output_type": "stream",
     "text": [
      "Seed:\n",
      " [[-1 -1 -1 -1 -1 -1 -1]\n",
      " [-1  0  0  0  0  0 -1]\n",
      " [-1  0  0  0  0  0 -1]\n",
      " [-1  0  0  1  0  0 -1]\n",
      " [-1  0  0  0  0  0 -1]\n",
      " [-1  0  0  0  0  0 -1]\n",
      " [-1 -1 -1 -1 -1 -1 -1]]\n",
      "\n",
      " Solution found with 1 walkways after 27 evaluations! \n",
      "\n",
      "[[-1 -1 -1 -1 -1 -1 -1]\n",
      " [-1  0  0  0  0  0 -1]\n",
      " [-1  0  0  2  0  0 -1]\n",
      " [-1  0  2  1  2  0 -1]\n",
      " [-1  0  0  2  0  0 -1]\n",
      " [-1  0  0  0  0  0 -1]\n",
      " [-1 -1 -1 -1 -1 -1 -1]]\n"
     ]
    }
   ],
   "source": [
    "A_star(seed_name='G', target_gate_count=4)"
   ]
  },
  {
   "cell_type": "markdown",
   "metadata": {},
   "source": [
    "### 6. Discussion"
   ]
  },
  {
   "cell_type": "code",
   "execution_count": null,
   "metadata": {},
   "outputs": [],
   "source": []
  }
 ],
 "metadata": {
  "kernelspec": {
   "display_name": "Python 3",
   "language": "python",
   "name": "python3"
  },
  "language_info": {
   "codemirror_mode": {
    "name": "ipython",
    "version": 3
   },
   "file_extension": ".py",
   "mimetype": "text/x-python",
   "name": "python",
   "nbconvert_exporter": "python",
   "pygments_lexer": "ipython3",
   "version": "3.7.6"
  }
 },
 "nbformat": 4,
 "nbformat_minor": 4
}
